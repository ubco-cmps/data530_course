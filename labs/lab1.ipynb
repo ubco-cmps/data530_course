{
 "cells": [
  {
   "cell_type": "markdown",
   "source": [
    "# Lab 1: Data Science stack"
   ],
   "metadata": {}
  },
  {
   "cell_type": "markdown",
   "source": [
    "## Objectives\n",
    "\n",
    "1. Install the Data Science Stack\n",
    "1. Become familiar with the tools of the trade\n",
    "1. Learn how to submit labs in MDS using GitHub and Gradescope"
   ],
   "metadata": {}
  },
  {
   "cell_type": "markdown",
   "source": [
    "## Task 1: Accept the lab (50 marks)\n",
    "\n",
    "To accept the assignment using GitHub, follow these steps:\n",
    "\n",
    "1. Accept the GitHub Classroom assignment [here](https://firas.moosvi.com/courses/2021_WT1/data530/labs/intro.html) ; you will need to accept each lab (for each course) separately.\n",
    "\n",
    "2. In GitHub, go to your automatically created lab repository, then click the ```Clone``` button. Copy the https link in the dropdown box.\n",
    "\n",
    "![](clone.png)\n",
    "\n",
    "3. Open Terminal (Mac/Linux) or GitBash (Windows), and navigate to where you want to create your local copy of the repository.\n",
    "\n",
    "4. Run ```git clone <Your https repo link>```. For example, I enter ```git clone https://github.com/ubco-mds-2021/<REPO_NAME>-firasm.git```. You may be prompted to enter your GitHub username and password (use the Personal Access Token or the PAT).\n",
    "\n",
    "5. Navigate into the new folder that has been created. Make your changes, adding or editing files to this new folder.\n",
    "\n",
    "**Note you may have already completed the following 2 steps when you installed the DS Stack. You do not need to do them again**\n",
    "\n",
    "6. Run ```git config --global user.email \"<Your Email you used for GitHub>\"```\n",
    "\n",
    "7. Run ```git config --global user.email \"<Your GitHub Username>\"```\n",
    "\n",
    "**Continue...**\n",
    "\n",
    "8. Run ```git add -A``` to stage all new edits and files in the repository for committing.\n",
    "\n",
    "9. Run ```git commit -m \"<Your commit message>\"``` to make a local commit of your changes. Your commit message should be a short description of what changes were made. You just made your first commit!\n",
    "\n",
    "10. Run ```git push``` to push your local commit to the GitHub server. You may be asked for your GitHub username and password (remember, use your PAT if it's not stored) again. You should now see the changes you made reflected in GitHub's web interface.\n",
    "\n",
    "11. You should repeat steps 7, 8, and 9 everytime you want to commit your changes up to GitHub.com. Otherwise they will only exist locally. I suggest having a minimum of 4 commits in this lab to get some practice on how this works.\n",
    "\n",
    "12. If you have to enter your PAT every time, something isn't quite right; the PAT should be saved and you shouldn't be prompted for it each time."
   ],
   "metadata": {}
  },
  {
   "cell_type": "markdown",
   "source": [
    "## Task 2: Install the Data Science Stack (40 marks)\n",
    "\n",
    "Most of you will have already installed the software and packages last week, in this task we will just confirm if everything is okay.\n",
    "\n",
    "If you did not finish installing the stack, you should definitely do that now. Here is a link to the [installation instructions](https://firas.moosvi.com/courses/2021_WT1/data530/setup/install_ds_stack.html)."
   ],
   "metadata": {}
  },
  {
   "cell_type": "markdown",
   "source": [
    "Once you're finished installing everything, run the following script (included in this repository) in the cells below. This is the output we will look at to make sure everything is ainstalled correctly.\n",
    "\n",
    "### Acknowledgement\n",
    "\n",
    "This Bash script was adapted from the original created by Dr. Joel Ostblom of the UBC-V MDS program. The original version is available [here](https://github.com/UBC-MDS/UBC-MDS.github.io/blob/master/resources_pages/check-setup-mds.sh)."
   ],
   "metadata": {}
  },
  {
   "cell_type": "markdown",
   "source": [
    "### Run the Script\n",
    "\n",
    "Make sure you leave the ouput in this jupyter notebook. You may run the script as many times as you like, just remember to add, commit, and push the most recent version of your notebook to GitHub and re-submit it to Gradescope."
   ],
   "metadata": {}
  },
  {
   "cell_type": "code",
   "execution_count": null,
   "source": [
    "!bash check_setup.sh"
   ],
   "outputs": [],
   "metadata": {}
  },
  {
   "cell_type": "markdown",
   "source": [
    "## Task 3: Submit your lab on Gradescope"
   ],
   "metadata": {}
  },
  {
   "cell_type": "markdown",
   "source": [
    "### Submission Instructions\n",
    "\n",
    "Once you are done with both this lab, **you will need to submit a snapshot of your repository for grading on Gradescope**.\n",
    "\n",
    "I have recorded a video with some instructions on how to submit your lab on Gradescope:\n",
    "\n",
    "<div style=\"padding:56.25% 0 0 0;position:relative;\"><iframe src=\"https://player.vimeo.com/video/570761775?badge=0&amp;autopause=0&amp;player_id=0&amp;app_id=58479\" frameborder=\"0\" allow=\"autoplay; fullscreen; picture-in-picture\" allowfullscreen style=\"position:absolute;top:0;left:0;width:100%;height:100%;\" title=\"Submitting your GitHub Classroom assignment via Gradescope\"></iframe></div><script src=\"https://player.vimeo.com/api/player.js\"></script>\n",
    "\n",
    "[Click here to view the video in a new browser window](https://vimeo.com/570761775).\n",
    "\n",
    "The same instructions are summarized here in text:\n",
    "\n",
    "1. Accept the GitHub Classroom assignment (You would have already done this in lab1A Task 1)\n",
    "\n",
    "1. Commit and push your change to GitHub.\n",
    "\n",
    "1. Log in to your Canvas course, and click Gradescope in the left sidebar.\n",
    "\n",
    "1. You will be enrolled in the course and receive a confirmation email. Gradescope will also open in a new window/tab with your course dashboard and all active assignments.\n",
    "\n",
    "1. If this is your first time using Gradescope, you will need to set a password:\n",
    "\n",
    "In the confirmation email you received from Gradescope, click the set your password link.\n",
    "Enter the same password in the password and password confirmation fields, and click Set Password.\n",
    "\n",
    "1. You can now access Gradescope through your Canvas course.\n",
    "\n",
    "1. When in Gradescope, click the course and you will see a list of assignments. Select the assignment you want to submit.\n",
    "\n",
    "1. Before you can start submitting work, you may see a dialog box telling you that your assignment will be timed. Read the information carefully, and click Start Assignment only when you're ready for the countdown to begin.\n",
    "\n",
    "1. The first time you do this, you will need to sync your GitHub account with Gradescope, and GRANT permission to our GitHub organization.\n",
    "\n",
    "1. Once you log in and link your GitHub account, you should find the repository and submit it to Gradescope.\n",
    "\n",
    "1. Gradescope will email you a confirmation of your submitted work, with a link to the submission.\n",
    "\n",
    "Note: If you make any future commits to this repository, you will need to re-submit on Gradescope.\n",
    "You may resubmit as many times as you like before the deadline + grace period, but you will not be able to commit after this time!\n",
    "\n",
    "You are all done with Lab 1!\n",
    "\n",
    "Congratulations!"
   ],
   "metadata": {}
  }
 ],
 "metadata": {
  "kernelspec": {
   "display_name": "Python 3 (ipykernel)",
   "language": "python",
   "name": "python3"
  },
  "language_info": {
   "codemirror_mode": {
    "name": "ipython",
    "version": 3
   },
   "file_extension": ".py",
   "mimetype": "text/x-python",
   "name": "python",
   "nbconvert_exporter": "python",
   "pygments_lexer": "ipython3",
   "version": "3.9.7"
  }
 },
 "nbformat": 4,
 "nbformat_minor": 4
}