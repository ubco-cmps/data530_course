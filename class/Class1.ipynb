{
 "cells": [
  {
   "cell_type": "markdown",
   "metadata": {
    "slideshow": {
     "slide_type": "slide"
    }
   },
   "source": [
    "# Lecture 2 - Command line and Stack"
   ]
  },
  {
   "cell_type": "code",
   "execution_count": 3,
   "metadata": {
    "slideshow": {
     "slide_type": "skip"
    }
   },
   "outputs": [
    {
     "data": {
      "text/html": [
       "<style>/*.container { width:100% !important; }*/\n",
       "\n",
       "div.prompt {display:none}\n",
       "\n",
       "div.output_subarea {max-width:100%}\n",
       "\n",
       "/* These below are from the altair_talk css */\n",
       "\n",
       "/* ---------- markdown cells\n",
       " */\n",
       "body.rise-enabled div.inner_cell>div.text_cell_render.rendered_html {\n",
       "    font-size: 100%;\n",
       "}\n",
       "\n",
       "\n",
       "/* ---------- code blocks inside markdown\n",
       "   i.e. within ``` lines, or 4-space indented\n",
       " */\n",
       "div.inner_cell>div.text_cell_render.rendered_html>pre {\n",
       "    margin: 0px;\n",
       "}\n",
       "\n",
       "/* ----------- code to remove space above markdown headers\n",
       " */\n",
       "div.inner_cell>div.text_cell_render.rendered_html h1 {\n",
       "    margin-top: 0px;\n",
       "}\n",
       "div.inner_cell>div.text_cell_render.rendered_html h2 {\n",
       "    margin-top: 0px;\n",
       "}\n",
       "div.inner_cell>div.text_cell_render.rendered_html h3 {\n",
       "    margin-top: 0px;\n",
       "}\n",
       "div.inner_cell>div.text_cell_render.rendered_html h4 {\n",
       "    margin-top: 0px;\n",
       "}\n",
       "\n",
       "div.inner_cell>div.text_cell_render.rendered_html>pre>code {\n",
       "    font-size: 70%;\n",
       "}\n",
       "\n",
       "/* ---------- tables (from SO)\n",
       " */\n",
       ".rendered_html table, .rendered_html th, .rendered_html tr, .rendered_html td {\n",
       "     font-size: 120%;\n",
       "}\n",
       "\n",
       "/* ---------- Left part of code cells\n",
       "    from this SO answer: https://stackoverflow.com/a/47263575;\n",
       " /* Narrow the prompts */\n",
       "div.prompt_container {\n",
       "    min-width: 5ex;\n",
       "}\n",
       "/* Hide prompts altogether for non-conda cells */\n",
       ".cell:not(.code_cell) .prompt {\n",
       "    display: none;\n",
       "}\n",
       "/* ---------- Width of cells\n",
       " */\n",
       ".container {\n",
       "    width:95% !important;\n",
       "}\n",
       "\n",
       "</style>"
      ],
      "text/plain": [
       "<IPython.core.display.HTML object>"
      ]
     },
     "execution_count": 3,
     "metadata": {},
     "output_type": "execute_result"
    }
   ],
   "source": [
    "from IPython.display import IFrame\n",
    "from IPython.display import Markdown\n",
    "# Additional styling ; should be moved into helpers\n",
    "from IPython.core.display import display, HTML\n",
    "HTML('<style>{}</style>'.format(open('styler.css').read()))"
   ]
  },
  {
   "cell_type": "markdown",
   "metadata": {
    "slideshow": {
     "slide_type": "slide"
    }
   },
   "source": [
    "## Announcements"
   ]
  },
  {
   "cell_type": "markdown",
   "metadata": {
    "slideshow": {
     "slide_type": "slide"
    }
   },
   "source": [
    "## Lecture Outline"
   ]
  },
  {
   "cell_type": "markdown",
   "metadata": {
    "slideshow": {
     "slide_type": "fragment"
    }
   },
   "source": [
    "1. Overview of the Platforms used in this program (15 mins)"
   ]
  },
  {
   "cell_type": "markdown",
   "metadata": {
    "slideshow": {
     "slide_type": "fragment"
    }
   },
   "source": [
    "2. The Command Line - Part 1 (25 mins)"
   ]
  },
  {
   "cell_type": "markdown",
   "metadata": {
    "slideshow": {
     "slide_type": "fragment"
    }
   },
   "source": [
    "3. Break (10 mins)"
   ]
  },
  {
   "cell_type": "markdown",
   "metadata": {
    "slideshow": {
     "slide_type": "fragment"
    }
   },
   "source": [
    "4. The Command Line - Part 2 (15 mins)"
   ]
  },
  {
   "cell_type": "markdown",
   "metadata": {
    "slideshow": {
     "slide_type": "slide"
    }
   },
   "source": [
    "## 1. Overview of the Platforms used in this program "
   ]
  },
  {
   "cell_type": "markdown",
   "metadata": {
    "slideshow": {
     "slide_type": "slide"
    }
   },
   "source": [
    "| Tool                      |  Purpose |\n",
    "| ------------------------- | -------- |\n",
    "| UBC Student Email         | We need this for Office365; good for jobs |\n",
    "| Web browser               | Recommend Chrome; Realistically good to have multiple browsers         |\n",
    "| LastPass password manager | Maintain sanity with passwords         |\n",
    "| Slack                     | You all know what this is good for         |\n",
    "| Visual Studio Code        | Code editor for 530, 531, 540 + viz courses         |\n",
    "| VS Code extensions        | GitLens (git stuff); Linters, syntax checkers         |\n",
    "| GitHub                    | This is where all your code is stored; all your project courses will be here         |\n",
    "| Git                       | Version control system         |\n"
   ]
  },
  {
   "cell_type": "markdown",
   "metadata": {},
   "source": [
    "| Tool                      |  Purpose |\n",
    "| ------------------------- | -------- |\n",
    "| Python                    | 1 of 2 programming languages         |\n",
    "| Essential python packages | numpy, pandas, seaborn, sci-kit-learn, others...         |\n",
    "| Conda                     | Environment manager (base)        |\n",
    "| JupyterLab and Jupyter Notebooks  | Platform for running notebooks         |\n",
    "| R; XQuartz; IRkernel      | Second of 2 languages used in the program          |\n",
    "| RStudio                   | IDE for R         |\n",
    "| LaTeX                     | Typesetting language for Math/Sciences         |\n",
    "| PostgreSQL                | Databases         |\n",
    "| Docker                    | Collaborative Software Dev/Workflows         |\n",
    "| Post-installation notes   | Script for checking if everything is installed correctly         | "
   ]
  },
  {
   "cell_type": "markdown",
   "metadata": {
    "slideshow": {
     "slide_type": "slide"
    }
   },
   "source": [
    "## The Command Line - Part 1"
   ]
  },
  {
   "cell_type": "markdown",
   "metadata": {
    "slideshow": {
     "slide_type": "subslide"
    }
   },
   "source": [
    "### What is the Command Line?\n",
    "\n",
    "The <b>command line </b>is the text interface to the computer that accepts commands that the computer will execute. These commands include:\n",
    "- starting programs\n",
    "- navigating directories and manipulating files \n",
    "- searching, sorting, and editing text files \n",
    "- system and environment configuration"
   ]
  },
  {
   "cell_type": "markdown",
   "metadata": {
    "slideshow": {
     "slide_type": "subslide"
    }
   },
   "source": [
    "### Why learn command line?\n",
    "\n",
    "The command line is the text interface to the computer.\n",
    "Understanding the command line allows you to interact with the computer in ways that you often cannot with the graphical user interface (GUI).\n",
    "\n",
    "The command line is commonly used for scripting and automation of tasks and when accessing remote systems.\n",
    "It will also be useful to run programs that make use of the command line (eg. github)."
   ]
  },
  {
   "cell_type": "markdown",
   "metadata": {
    "slideshow": {
     "slide_type": "subslide"
    }
   },
   "source": [
    "### Why use command line?\n",
    "The command line is part of the operating system (OS), which is software that manages your computer including all devices and programs.\n",
    "\n",
    "- Common operating systems include Windows, Mac OS, and Linux/Unix.\n",
    "- Some commands will be OS specific\n",
    "\n",
    "You might be wondering why we would ever prefer command line over using the graphical user interface (GUI).\n",
    "- Certain tools may only be available to command line. \n",
    "- Sometimes command line is faster.\n",
    " "
   ]
  },
  {
   "cell_type": "markdown",
   "metadata": {
    "slideshow": {
     "slide_type": "subslide"
    }
   },
   "source": [
    "### Command Line on Windows\n",
    "\n",
    "The command line on Windows dates back to the original Microsoft operating system called DOS (Disk Operating System) in 1981.\n",
    "\n",
    "This command line interface is still part of all modern Windows operating systems and is accessible as the \"Command Prompt\".\n",
    "\n",
    "**I am recommending you use GitBash instead of the default Windows Command Prompt.**\n",
    "\n"
   ]
  },
  {
   "cell_type": "code",
   "execution_count": 2,
   "metadata": {
    "slideshow": {
     "slide_type": "subslide"
    }
   },
   "outputs": [
    {
     "data": {
      "text/markdown": [
       "#### Sli.do poll"
      ],
      "text/plain": [
       "<IPython.core.display.Markdown object>"
      ]
     },
     "metadata": {},
     "output_type": "display_data"
    },
    {
     "data": {
      "text/html": [
       "\n",
       "        <iframe\n",
       "            width=\"800\"\n",
       "            height=\"400\"\n",
       "            src=\"https://app.sli.do/event/0oandysw/embed/polls/a249631b-a9de-4bf0-acaf-7211002d48db\"\n",
       "            frameborder=\"0\"\n",
       "            allowfullscreen\n",
       "        ></iframe>\n",
       "        "
      ],
      "text/plain": [
       "<IPython.lib.display.IFrame at 0x103473d60>"
      ]
     },
     "execution_count": 2,
     "metadata": {},
     "output_type": "execute_result"
    }
   ],
   "source": [
    "display(Markdown('#### Sli.do poll'))\n",
    "IFrame('https://app.sli.do/event/0oandysw/embed/polls/a249631b-a9de-4bf0-acaf-7211002d48db',\n",
    "       width=800, height=400)"
   ]
  },
  {
   "cell_type": "markdown",
   "metadata": {
    "slideshow": {
     "slide_type": "slide"
    }
   },
   "source": [
    "### Windows Terminal\n",
    "\n",
    "This is what the GitBash \"Terminal\" looks like. From here on out, whenever we say \"Terminal\", we mean \"GitBash on Windows\", \"Terminal on macOS and Ubuntu\"\n",
    "\n",
    "<img src=\"https://gitforwindows.org/img/gw1.png\" alt=\"CommandPrompt\" width=\"900px\" >"
   ]
  },
  {
   "cell_type": "markdown",
   "metadata": {
    "slideshow": {
     "slide_type": "subslide"
    }
   },
   "source": [
    "- The directory separator is a forward slash `/` for Macs/Ubuntu, and the opposite pointing slash on Windows `\\`\n",
    "- However if you use GitBash, this should preserve your sanity and you should be able to use forward slash on Windows as well\n",
    "- In fact, many of the macOS/Ubuntu commands will also work in GitBash, but for completeness we will also share the other commands\n",
    "\n",
    "Image source: [Git for windows](https://gitforwindows.org)"
   ]
  },
  {
   "cell_type": "markdown",
   "metadata": {
    "slideshow": {
     "slide_type": "subslide"
    }
   },
   "source": [
    "### Mac OS Command Line\n",
    "The command line for Mac OS uses the same commands as Linux. It can be opened using Finder then Utilities then Terminal.\n",
    "\n",
    "<img src=\"../images/Terminal.png\" alt=\"CommandPrompt\" width=\"900px\" >\n",
    "\n",
    "Alternatively, we could type Cmd + spacebar, then type “Terminal\" and press ENTER"
   ]
  },
  {
   "cell_type": "markdown",
   "metadata": {
    "slideshow": {
     "slide_type": "subslide"
    }
   },
   "source": [
    "### Entering Commands\n",
    "Enter a command at a prompt. The prompt may be a > or a $ or customized by the user.\n",
    "\n",
    "Press ENTER to execute the command.\n",
    "\n",
    "On Windows, commands are mostly case-insensitive while on Mac/Linux they are case-sensitive.\n",
    "\n",
    "<img src=\"../images/running_commands.png\" alt=\"Running commands CommandPrompt\" width=\"900px\" >\n"
   ]
  },
  {
   "cell_type": "markdown",
   "metadata": {
    "slideshow": {
     "slide_type": "subslide"
    }
   },
   "source": [
    "### File System\n",
    "The file system organizes data on a device as a hierarchy of directories and files (like a tree).\n",
    "Each folder (AKA directory) has a name and can contain any number of files or subdirectories.\n",
    "Each file has a name.\n",
    "The user can change (navigate) directories in the hierarchy.\n",
    "\n",
    "<img src=\"../images/filesystem.png\" alt=\"File System\" width=\"500px\" >\n"
   ]
  },
  {
   "cell_type": "markdown",
   "metadata": {
    "slideshow": {
     "slide_type": "subslide"
    }
   },
   "source": [
    "### File System\n",
    "The tree is rooted at, well, the root.\n",
    "- There is only one root of a directory hierarchy.\n",
    "Every item in the tree is either a file or a directory (AKA folder).\n",
    "- You can think of a directory as a container that may contains files and/or other directories.\n",
    "- Files on the other hand holds information (and cannot contain other files or directories) .\n",
    "\n",
    "If directoryC is contained in directoryP, then directoryC is a child of directoryP and directoryP is said to be the parent to directoryC.\n",
    "- A directory may have many children, but can only have one parent."
   ]
  },
  {
   "cell_type": "markdown",
   "metadata": {
    "slideshow": {
     "slide_type": "subslide"
    }
   },
   "source": [
    "### Absolute versus Relative Path\n",
    "\n",
    "- The root of the file system is the directory \"/\" \n",
    "       - There is only one root of a directory hierarchy.\n",
    "- A path to a new location (from your current location) can be specified as an absolute path from the root (this will work no matter where we are in the file system):\n",
    "\n"
   ]
  },
  {
   "cell_type": "markdown",
   "metadata": {
    "slideshow": {
     "slide_type": "subslide"
    }
   },
   "source": [
    "### Navigating relative paths\n",
    "\n",
    "- `.` is the short-form for the current directory\n",
    "- `..` signifies the parent directory (akin to pressing Cmnd +↑\n",
    "on a Mac)\n",
    "- For example, to navigate (i.e. change directories) to the parent directory of the current directory, use the command:\n",
    "     cd ..\n",
    "- Note that this command is dependant on your current directory (i.e. the folder you are currently in).\n",
    "```text\n",
    "pwd/cd\n",
    "To print your current working directory type pwd/cd (Mac/Windows) then ENTER .\n",
    "```"
   ]
  },
  {
   "cell_type": "markdown",
   "metadata": {
    "slideshow": {
     "slide_type": "subslide"
    }
   },
   "source": [
    "#### Clicker question: Absolute versus Relative Path Question\n",
    "\n",
    "Consider this directory hierarchy.\n",
    "\n",
    "- The user is currently in the directory `level2`\n",
    "- The `level1` directory contains a file called `test.txt`. \n",
    "\n",
    "Which of the following statements are TRUE?\n",
    "\n",
    "1. A relative path to change to directory 301 is `..`\n",
    "2. Absolute path to `test.txt` is `/Users/ivrbik/301/level1/test.txt`\n",
    "3. Relative path to `test.txt` is ../test.txt\n",
    "4. Relative path to `test.txt` is different if user was currently in `level3` directory.\n",
    "5. There is only one root of the directory hierarchy.\n",
    "\n",
    "**Answer on the sli.do poll in the next cell**\n",
    "\n",
    "<img src=\"../images/relativepath.png\" width=\"700px\">"
   ]
  },
  {
   "cell_type": "markdown",
   "metadata": {
    "slideshow": {
     "slide_type": "subslide"
    }
   },
   "source": [
    "### Activity: Let's try to re-create that directory and file structure "
   ]
  },
  {
   "cell_type": "markdown",
   "metadata": {
    "slideshow": {
     "slide_type": "fragment"
    }
   },
   "source": [
    "You will need the following commands:\n",
    "\n",
    "- [`cd`](https://man7.org/linux/man-pages/man1/cd.1p.html) : change directory\n",
    "- [`pwd`](https://man7.org/linux/man-pages/man1/pwd.1.html) : print working directory\n",
    "- [`mkdir`](https://man7.org/linux/man-pages/man1/mkdir.1.html): make directory\n",
    "- [`ls`](https://man7.org/linux/man-pages/man1/ls.1.html): list directory contents\n",
    "- [`touch`](https://man7.org/linux/man-pages/man1/touch.1.html): create an empty file with a specific name\n",
    "- `code`/`pico`/`nano`/`vim`: edit the file in a text editor"
   ]
  },
  {
   "cell_type": "code",
   "execution_count": 4,
   "metadata": {
    "slideshow": {
     "slide_type": "subslide"
    }
   },
   "outputs": [
    {
     "data": {
      "text/markdown": [
       "#### Supplementary video on absolute vs. relative paths"
      ],
      "text/plain": [
       "<IPython.core.display.Markdown object>"
      ]
     },
     "metadata": {},
     "output_type": "display_data"
    },
    {
     "data": {
      "text/html": [
       "\n",
       "        <iframe\n",
       "            width=\"100%\"\n",
       "            height=\"500px\"\n",
       "            src=\"https://www.youtube-nocookie.com/embed/sqX6hu7oEew\"\n",
       "            frameborder=\"0\"\n",
       "            allowfullscreen\n",
       "        ></iframe>\n",
       "        "
      ],
      "text/plain": [
       "<IPython.lib.display.IFrame at 0x1034c8c40>"
      ]
     },
     "execution_count": 4,
     "metadata": {},
     "output_type": "execute_result"
    }
   ],
   "source": [
    "display(Markdown('#### Supplementary video on absolute vs. relative paths'))\n",
    "\n",
    "IFrame('https://www.youtube-nocookie.com/embed/sqX6hu7oEew',width=\"100%\",height=\"500px\")"
   ]
  },
  {
   "cell_type": "markdown",
   "metadata": {
    "slideshow": {
     "slide_type": "slide"
    }
   },
   "source": [
    "## Break (10 mins)\n",
    "\n",
    "Return at 10:35"
   ]
  },
  {
   "cell_type": "markdown",
   "metadata": {
    "slideshow": {
     "slide_type": "slide"
    }
   },
   "source": [
    "## The Command Line - Part 2"
   ]
  },
  {
   "cell_type": "markdown",
   "metadata": {
    "slideshow": {
     "slide_type": "subslide"
    }
   },
   "source": [
    "### Command Arguments - Mac/Linux/Windows\n",
    "On Mac/Linux arguments are separated by spaces and begin with `-`\n",
    "\n",
    "An explanation of arguments can be found by using man then the command name.\n",
    "\n",
    "- Example: `man cp` (to quit press q)\n",
    "\n",
    "<img src=\"../images/man.png\" alt=\"Manual of options for the `cp` command\" width=\"900px\" >\n"
   ]
  },
  {
   "cell_type": "markdown",
   "metadata": {
    "slideshow": {
     "slide_type": "subslide"
    }
   },
   "source": [
    "### Commonly used Terminal commands \n",
    "\n",
    "Keep in mind, that in GitBash, the commands should work the same as macOS and Ubuntu\n",
    "<img src=\"../images/terminalCommands.png\">"
   ]
  },
  {
   "cell_type": "markdown",
   "metadata": {
    "slideshow": {
     "slide_type": "subslide"
    }
   },
   "source": [
    "### Useful Terminal shortcuts\n",
    "\n",
    "- Use the up and down arrows to re-run commands\n",
    "- `Ctrl+A` to go to the beginning of the line\n",
    "- `Ctrl+E` to go to the end of the line\n",
    "- To cancel a command, press Ctrl +C .\n",
    "    - The command is canceled, and the command prompt returns. However, any actions performed before the cancel are not undone.\n"
   ]
  },
  {
   "cell_type": "markdown",
   "metadata": {
    "slideshow": {
     "slide_type": "subslide"
    }
   },
   "source": [
    "### Escape Symbol\n",
    "\n",
    "An escape symbol is used when a command requires input that contains a character with a special meaning. The escape symbol indicates this character is data not part of the command.\n",
    "Windows the caret (^) indicates that whatever character that follows is data rather than part of the command.\n",
    "\n",
    "- Example: `cp test.txt a^&b.txt` \n",
    "- On macOS/Ubuntu, use the backslash (`\\`).\n",
    "\n",
    "This is especially common when dealing with spaces in a file name. The other way to handle file names with spaces is to enclose them in double [quotes](https://wiki.bash-hackers.org/syntax/quoting%20):\n",
    "\n",
    "`cp test.txt \"c:\\program files\\file spaces.txt\"`"
   ]
  },
  {
   "cell_type": "markdown",
   "metadata": {
    "slideshow": {
     "slide_type": "subslide"
    }
   },
   "source": [
    "### Environment Variable\n",
    "\n",
    "Environment variables allow for customization and control of the command and system environment.\n",
    "\n",
    "Current variables are seen using the `set` or `env` command. \n",
    "\n",
    "**Important variables**:\n",
    "\n",
    "- `$PATH` list of directories where commands/applications will be found\n",
    "\n",
    "- `$HOME` user home directory\n",
    "\n",
    "To print out the environment variables, use the `echo` command:\n",
    "\n",
    "- `echo $PATH`"
   ]
  },
  {
   "cell_type": "markdown",
   "metadata": {
    "slideshow": {
     "slide_type": "subslide"
    }
   },
   "source": [
    "### Finding Text in Files\n",
    "\n",
    "The `grep` command allows for searching for text in files that match a pattern (macOS/Ubuntu and `find` on Windows).\n",
    "\n",
    "- grep stands for \"global regular expression print\"\n",
    "- Search is case-sensitive (use -i for case-insensitive) and can contain regular expressions.\n",
    "- grep -i will be case-insensitive\n",
    "\n",
    "Example: the following command searches for 'er' in any file that ends in .txt\n",
    "\n",
    "- `grep er *.txt`"
   ]
  },
  {
   "cell_type": "markdown",
   "metadata": {
    "slideshow": {
     "slide_type": "subslide"
    }
   },
   "source": [
    "### Conclusion\n",
    "\n",
    "- The command line is the text interface to the computer that accepts commands that the computer will execute including running programs, manipulating files, and running scripts."
   ]
  },
  {
   "cell_type": "markdown",
   "metadata": {
    "slideshow": {
     "slide_type": "fragment"
    }
   },
   "source": [
    "- The command line allows for automation and more control than may be available in the user interface. It may also be the only way to interact with the machine if connecting via SSH."
   ]
  },
  {
   "cell_type": "markdown",
   "metadata": {
    "slideshow": {
     "slide_type": "fragment"
    }
   },
   "source": [
    "- The command environment allows for redirecting the standard input and output using input/output redirection and pipes."
   ]
  },
  {
   "cell_type": "markdown",
   "metadata": {
    "slideshow": {
     "slide_type": "fragment"
    }
   },
   "source": [
    "- You need to **PRACTICE PRACTICE PRACTICE** working in the Terminal: to get yourself used to it, I suggest not using the Finder/Explorer on your computer and use the Terminal for everything.\n",
    "\n",
    "    - `open` will open a file in the default application"
   ]
  },
  {
   "cell_type": "markdown",
   "metadata": {
    "slideshow": {
     "slide_type": "slide"
    }
   },
   "source": [
    "## Summary\n",
    "\n",
    "- Briefly explain components of the MDS Install Stack\n",
    "- Define command line and list some of its uses \n",
    "- Explain the purpose of an operating system\n",
    "- Know how to open the command line window on Mac OS and Windows\n",
    "- Enter commands in the Terminal and stop them\n",
    "- Define: file system, folder, file\n",
    "- Explain the difference between an absolute and relative path \n",
    "- Use command line shortcuts to save time\n",
    "- Be able to cancel a command\n",
    "- Explain the reason for an escape symbol\n",
    "- Define and explain the purpose of environment variables. Be able to use grep to search text files.\n"
   ]
  },
  {
   "cell_type": "markdown",
   "metadata": {
    "slideshow": {
     "slide_type": "skip"
    }
   },
   "source": [
    "## Code required for Jupyter RISE\n",
    "\n",
    "\n",
    "### RISE Template"
   ]
  },
  {
   "cell_type": "code",
   "execution_count": 5,
   "metadata": {
    "slideshow": {
     "slide_type": "skip"
    }
   },
   "outputs": [],
   "source": [
    "from traitlets.config.manager import BaseJSONConfigManager\n",
    "from pathlib import Path\n",
    "path = Path.home() / \".jupyter\" / \"nbconfig\"\n",
    "cm = BaseJSONConfigManager(config_dir=str(path))\n",
    "tmp = cm.update(\n",
    "        \"rise\",\n",
    "        {\n",
    "            \"theme\": \"sky\", # https://revealjs.com/themes/\n",
    "            \"transition\": \"fade\",\n",
    "            \"start_slideshow_at\": \"selected\",\n",
    "            \"autolaunch\": False,\n",
    "            \"width\": \"100%\",\n",
    "            \"height\": \"100%\",\n",
    "            \"header\": \"\",\n",
    "            \"footer\":\"\",\n",
    "            \"scroll\": True,\n",
    "            \"enable_chalkboard\": True,\n",
    "            \"slideNumber\": True,\n",
    "            \"center\": False,\n",
    "            \"controlsLayout\": \"edges\",\n",
    "            \"slideNumber\": True,\n",
    "            \"hash\": True,\n",
    "        }\n",
    "    )"
   ]
  }
 ],
 "metadata": {
  "celltoolbar": "Slideshow",
  "kernelspec": {
   "display_name": "Python 3 (ipykernel)",
   "language": "python",
   "name": "python3"
  },
  "language_info": {
   "codemirror_mode": {
    "name": "ipython",
    "version": 3
   },
   "file_extension": ".py",
   "mimetype": "text/x-python",
   "name": "python",
   "nbconvert_exporter": "python",
   "pygments_lexer": "ipython3",
   "version": "3.9.7"
  }
 },
 "nbformat": 4,
 "nbformat_minor": 4
}
